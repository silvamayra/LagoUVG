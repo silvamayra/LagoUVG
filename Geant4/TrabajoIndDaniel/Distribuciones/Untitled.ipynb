{
 "cells": [
  {
   "cell_type": "code",
   "execution_count": 1,
   "metadata": {},
   "outputs": [
    {
     "ename": "ModuleNotFoundError",
     "evalue": "No module named 'plotly'",
     "output_type": "error",
     "traceback": [
      "\u001b[1;31m---------------------------------------------------------------------------\u001b[0m",
      "\u001b[1;31mModuleNotFoundError\u001b[0m                       Traceback (most recent call last)",
      "\u001b[1;32m<ipython-input-1-a4f31f74406f>\u001b[0m in \u001b[0;36m<module>\u001b[1;34m\u001b[0m\n\u001b[0;32m     10\u001b[0m \u001b[1;32mimport\u001b[0m \u001b[0mmatplotlib\u001b[0m\u001b[1;33m.\u001b[0m\u001b[0mpyplot\u001b[0m \u001b[1;32mas\u001b[0m \u001b[0mplt\u001b[0m\u001b[1;33m\u001b[0m\u001b[1;33m\u001b[0m\u001b[0m\n\u001b[0;32m     11\u001b[0m \u001b[1;32mimport\u001b[0m \u001b[0mscipy\u001b[0m\u001b[1;33m.\u001b[0m\u001b[0mstats\u001b[0m \u001b[1;32mas\u001b[0m \u001b[0mstat\u001b[0m\u001b[1;33m\u001b[0m\u001b[1;33m\u001b[0m\u001b[0m\n\u001b[1;32m---> 12\u001b[1;33m \u001b[1;32mimport\u001b[0m \u001b[0mplotly\u001b[0m\u001b[1;33m.\u001b[0m\u001b[0mplotly\u001b[0m \u001b[1;32mas\u001b[0m \u001b[0mpy\u001b[0m\u001b[1;33m\u001b[0m\u001b[1;33m\u001b[0m\u001b[0m\n\u001b[0m\u001b[0;32m     13\u001b[0m \u001b[1;32mimport\u001b[0m \u001b[0mplotly\u001b[0m\u001b[1;33m.\u001b[0m\u001b[0mtools\u001b[0m \u001b[1;32mas\u001b[0m \u001b[0mtls\u001b[0m\u001b[1;33m\u001b[0m\u001b[1;33m\u001b[0m\u001b[0m\n\u001b[0;32m     14\u001b[0m \u001b[1;33m\u001b[0m\u001b[0m\n",
      "\u001b[1;31mModuleNotFoundError\u001b[0m: No module named 'plotly'"
     ]
    }
   ],
   "source": [
    "# -*- coding: utf-8 -*-\n",
    "\"\"\"\n",
    "Created on Tue Oct 11 12:31:45 2016\n",
    "\n",
    "@author: daniel\n",
    "\"\"\"\n",
    "\n",
    "from numpy import *\n",
    "import os, glob\n",
    "import matplotlib.pyplot as plt\n",
    "import scipy.stats as stat\n",
    "import plotly.plotly as py\n",
    "import plotly.tools as tls\n",
    "\n",
    "IC = []\n",
    "energia = []\n",
    "\n",
    "for file in glob.glob(\"*.txt\"):\n",
    "    infile = open(file,'r')\n",
    "    producidos = []\n",
    "    detectados = []\n",
    "    cociente   = []\n",
    "    for line in infile:\n",
    "        a = (line.split(' ')[0])\n",
    "        u = line.split(' ')[0]\n",
    "        if a != '#' and a != '/':\n",
    "            b = float(a)\n",
    "            if b > 5000:\n",
    "                producidos.append(b)\n",
    "            else:\n",
    "                detectados.append(b)\n",
    "        elif u == '/':\n",
    "            energia.append(float(line.split(' ')[1]))\n",
    "        \n",
    "    for i in range(0,len(producidos)):\n",
    "        cociente.append(detectados[i]/producidos[i])\n",
    "    \n",
    "    IC.append(stat.t.interval(0.95, len(detectados)-1, loc=np.mean(detectados), scale=stat.sem(detectados)))\n",
    "#    DetectadosP = stat.shapiro(detectados)\n",
    "#    ProducidosP = stat.shapiro(producidos)\n",
    "#    CocienteP = stat.shapiro(cociente)\n",
    "\n",
    "#set_ylabel(\"Conteo\")\n",
    "#set_xlabel(\"\\nFotones producidos\")\n",
    "#fig1.hist(producidos,50,color=\"blue\")\n",
    "\n",
    "#fig2 = plt.subplot(312)\n",
    "#fig2.set_title(\"\\nFotones detectados\")\n",
    "#fig2.set_ylabel(\"Conteo\")\n",
    "#fig2.hist(detectados,50,color=\"red\")\n",
    "#\n",
    "#fig3 = plt.subplot(313)\n",
    "#fig3.set_title(\"\\nFotones detectados / Fotones producidos\")\n",
    "#fig3.set_ylabel(\"Conteo\")\n",
    "#fig3.hist(cociente,50,color=\"green\")\n",
    "#plt.show()"
   ]
  },
  {
   "cell_type": "code",
   "execution_count": null,
   "metadata": {},
   "outputs": [],
   "source": []
  }
 ],
 "metadata": {
  "kernelspec": {
   "display_name": "Python 3",
   "language": "python",
   "name": "python3"
  }
 },
 "nbformat": 4,
 "nbformat_minor": 2
}
